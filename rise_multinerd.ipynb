{
  "nbformat": 4,
  "nbformat_minor": 0,
  "metadata": {
    "colab": {
      "provenance": [],
      "gpuType": "T4",
      "authorship_tag": "ABX9TyOBzCYoGcfIb5HvtL+oZw/1",
      "include_colab_link": true
    },
    "kernelspec": {
      "name": "python3",
      "display_name": "Python 3"
    },
    "language_info": {
      "name": "python"
    },
    "accelerator": "GPU"
  },
  "cells": [
    {
      "cell_type": "markdown",
      "metadata": {
        "id": "view-in-github",
        "colab_type": "text"
      },
      "source": [
        "<a href=\"https://colab.research.google.com/github/nikotang/rise-multinerd/blob/main/rise_multinerd.ipynb\" target=\"_parent\"><img src=\"https://colab.research.google.com/assets/colab-badge.svg\" alt=\"Open In Colab\"/></a>"
      ]
    },
    {
      "cell_type": "markdown",
      "source": [
        "# Assignment: Research Engineer in Natural Language Processing\n",
        "## RISE Research Institutes of Sweden\n",
        "\n",
        "This notebook finetunes two language models on the English examples in MultiNERD."
      ],
      "metadata": {
        "id": "6n8QkKNfVPey"
      }
    },
    {
      "cell_type": "markdown",
      "source": [
        "## System A"
      ],
      "metadata": {
        "id": "6h6OwI0ugxfQ"
      }
    },
    {
      "cell_type": "markdown",
      "source": [
        "### Installations and imports"
      ],
      "metadata": {
        "id": "17_a8mjsWI4K"
      }
    },
    {
      "cell_type": "code",
      "source": [
        "!pip install -U transformers datasets evaluate seqeval accelerate"
      ],
      "metadata": {
        "id": "zX9tuVGe56SC"
      },
      "execution_count": null,
      "outputs": []
    },
    {
      "cell_type": "code",
      "source": [
        "from transformers import AutoTokenizer, AutoModelForTokenClassification, DataCollatorForTokenClassification, Trainer, TrainingArguments, EarlyStoppingCallback\n",
        "from datasets import load_dataset\n",
        "import accelerate\n",
        "import evaluate\n",
        "\n",
        "import numpy as np\n",
        "import gc\n",
        "import torch\n",
        "from collections import defaultdict\n",
        "import json"
      ],
      "metadata": {
        "id": "r1W5WfcjtQzI"
      },
      "execution_count": 2,
      "outputs": []
    },
    {
      "cell_type": "markdown",
      "source": [
        "### Pre-process the dataset"
      ],
      "metadata": {
        "id": "klTW9ggafGFl"
      }
    },
    {
      "cell_type": "code",
      "execution_count": null,
      "metadata": {
        "id": "gTkrsJGPtAYi"
      },
      "outputs": [],
      "source": [
        "# fetch tokenizer and dataset\n",
        "tokenizer = AutoTokenizer.from_pretrained('bert-base-cased')\n",
        "dataset = load_dataset('Babelscape/multinerd')"
      ]
    },
    {
      "cell_type": "code",
      "source": [
        "# filter dataset to only contain English data\n",
        "eng_dataset = dataset.filter(lambda batch: [lang=='en' for lang in batch['lang']], batched=True)"
      ],
      "metadata": {
        "id": "uTUE-rcSBdpt"
      },
      "execution_count": null,
      "outputs": []
    },
    {
      "cell_type": "code",
      "source": [
        "def tokenize_and_align_labels(examples):\n",
        "  '''\n",
        "  Tokenize Dataset or DatasetDict, and set labels for non-first subtokens as -100 to ignore loss calculation.\n",
        "  '''\n",
        "  tokenized_inputs = tokenizer(examples['tokens'], truncation=True, is_split_into_words=True) # the examples are already split into words\n",
        "  labels = []\n",
        "  for i, label in enumerate(examples['ner_tags']):\n",
        "    word_ids = tokenized_inputs.word_ids(batch_index=i)  # Map tokens to their respective word\n",
        "    previous_word_idx = None\n",
        "    label_ids = []\n",
        "    for word_idx in word_ids:  # Set the special tokens to -100\n",
        "      if word_idx is None:\n",
        "        label_ids.append(-100)\n",
        "      elif word_idx != previous_word_idx:  # Only label the first token of a given word\n",
        "        label_ids.append(label[word_idx])\n",
        "      else:\n",
        "        label_ids.append(-100)\n",
        "      previous_word_idx = word_idx\n",
        "    labels.append(label_ids)\n",
        "  tokenized_inputs['labels'] = labels\n",
        "  return tokenized_inputs"
      ],
      "metadata": {
        "id": "viqf-gZV7vOV"
      },
      "execution_count": 5,
      "outputs": []
    },
    {
      "cell_type": "code",
      "source": [
        "tokenized_eng = eng_dataset.map(tokenize_and_align_labels, batched=True)"
      ],
      "metadata": {
        "id": "LIRf6JtT8I1n"
      },
      "execution_count": null,
      "outputs": []
    },
    {
      "cell_type": "markdown",
      "source": [
        "### Create dataloader and look-up dicts for model and training setup"
      ],
      "metadata": {
        "id": "9-B8FjAOzyDU"
      }
    },
    {
      "cell_type": "code",
      "source": [
        "# set data collator, pads to len(longest example of the batch)\n",
        "data_collator = DataCollatorForTokenClassification(tokenizer=tokenizer)"
      ],
      "metadata": {
        "id": "8gSLraN28kQe"
      },
      "execution_count": 7,
      "outputs": []
    },
    {
      "cell_type": "code",
      "source": [
        "# set up look-up dictionaries for the model\n",
        "# label2id dictionary from https://huggingface.co/datasets/Babelscape/multinerd\n",
        "label2id = {\n",
        "  \"O\": 0,\n",
        "  \"B-PER\": 1,\n",
        "  \"I-PER\": 2,\n",
        "  \"B-ORG\": 3,\n",
        "  \"I-ORG\": 4,\n",
        "  \"B-LOC\": 5,\n",
        "  \"I-LOC\": 6,\n",
        "  \"B-ANIM\": 7,\n",
        "  \"I-ANIM\": 8,\n",
        "  \"B-BIO\": 9,\n",
        "  \"I-BIO\": 10,\n",
        "  \"B-CEL\": 11,\n",
        "  \"I-CEL\": 12,\n",
        "  \"B-DIS\": 13,\n",
        "  \"I-DIS\": 14,\n",
        "  \"B-EVE\": 15,\n",
        "  \"I-EVE\": 16,\n",
        "  \"B-FOOD\": 17,\n",
        "  \"I-FOOD\": 18,\n",
        "  \"B-INST\": 19,\n",
        "  \"I-INST\": 20,\n",
        "  \"B-MEDIA\": 21,\n",
        "  \"I-MEDIA\": 22,\n",
        "  \"B-MYTH\": 23,\n",
        "  \"I-MYTH\": 24,\n",
        "  \"B-PLANT\": 25,\n",
        "  \"I-PLANT\": 26,\n",
        "  \"B-TIME\": 27,\n",
        "  \"I-TIME\": 28,\n",
        "  \"B-VEHI\": 29,\n",
        "  \"I-VEHI\": 30,\n",
        "}\n",
        "id2label = {v:k for k,v in label2id.items()}"
      ],
      "metadata": {
        "id": "unxo0gmSb-JU"
      },
      "execution_count": 8,
      "outputs": []
    },
    {
      "cell_type": "markdown",
      "source": [
        "### Set up evaluation metrics"
      ],
      "metadata": {
        "id": "BdY8l8-yfhCt"
      }
    },
    {
      "cell_type": "code",
      "source": [
        "label_list = list(label2id.keys())\n",
        "\n",
        "seqeval = evaluate.load('seqeval')\n",
        "\n",
        "def set_compute_metrics(label_list):\n",
        "  def compute_metrics(p):\n",
        "    nonlocal label_list     # available with python>=3.x\n",
        "    predictions, labels = p\n",
        "    predictions = np.argmax(predictions, axis=2)\n",
        "\n",
        "    true_predictions = [\n",
        "      [label_list[p] for (p, l) in zip(prediction, label) if l != -100]\n",
        "      for prediction, label in zip(predictions, labels)\n",
        "    ]\n",
        "    true_labels = [\n",
        "      [label_list[l] for (p, l) in zip(prediction, label) if l != -100]\n",
        "      for prediction, label in zip(predictions, labels)\n",
        "    ]\n",
        "\n",
        "    results = seqeval.compute(predictions=true_predictions, references=true_labels)\n",
        "    return {\n",
        "      'precision': results['overall_precision'],\n",
        "      'recall': results['overall_recall'],\n",
        "      'f1': results['overall_f1'],\n",
        "      'accuracy': results['overall_accuracy'],\n",
        "    }\n",
        "  return compute_metrics"
      ],
      "metadata": {
        "id": "yREGfLsapWCM"
      },
      "execution_count": null,
      "outputs": []
    },
    {
      "cell_type": "markdown",
      "source": [
        "### Fine-tune"
      ],
      "metadata": {
        "id": "EUYt4uTKg_Ps"
      }
    },
    {
      "cell_type": "code",
      "source": [
        "# make space\n",
        "gc.collect()\n",
        "torch.cuda.empty_cache()\n",
        "\n",
        "CUDA_VISIBLE_DEVICES=0\n",
        "\n",
        "# set arguments\n",
        "training_args = TrainingArguments(\n",
        "    output_dir=f'./a_results',\n",
        "    num_train_epochs=3,\n",
        "    max_steps=30000,                        # overrides training epochs\n",
        "    per_device_train_batch_size=32,\n",
        "    per_device_eval_batch_size=64,\n",
        "    warmup_steps=1000,\n",
        "    learning_rate=5e-5,\n",
        "    weight_decay=5e-4,\n",
        "    log_level='info',\n",
        "    logging_dir=f'./a_logs',\n",
        "    logging_steps=1000,\n",
        "    evaluation_strategy='steps',\n",
        "    eval_steps=1000,\n",
        "    save_steps=1000,\n",
        "    save_total_limit=5,\n",
        "    load_best_model_at_end=True,\n",
        "    metric_for_best_model='eval_loss',      # determine 'best' according to eval loss\n",
        "    greater_is_better=False,\n",
        "    dataloader_drop_last=True,              # stops when what remains is less than a batch when training by steps\n",
        "    disable_tqdm=False\n",
        ")\n",
        "\n",
        "# load the model\n",
        "model = AutoModelForTokenClassification.from_pretrained('bert-base-cased',\n",
        "                                                        num_labels=len(id2label),\n",
        "                                                        id2label=id2label,\n",
        "                                                        label2id=label2id,\n",
        "                                                        hidden_dropout_prob=0.5,\n",
        "                                                        ).to('cuda')\n",
        "\n",
        "trainer = Trainer(\n",
        "    model=model,\n",
        "    args=training_args,\n",
        "    train_dataset=tokenized_eng['train'],\n",
        "    eval_dataset=tokenized_eng['validation'],\n",
        "    tokenizer=tokenizer,\n",
        "    data_collator=data_collator,\n",
        "    compute_metrics=set_compute_metrics(label_list),\n",
        "    callbacks=[EarlyStoppingCallback(early_stopping_patience=5)]      # checks 5 more steps before early stopping\n",
        ")\n",
        "\n",
        "trainer.train()\n",
        "\n",
        "trainer.save_model()"
      ],
      "metadata": {
        "id": "bH6M9QqrzY05"
      },
      "execution_count": null,
      "outputs": []
    },
    {
      "cell_type": "markdown",
      "source": [
        "## System B\n",
        "\n",
        "You will now train a model that will predict only five entity types and the O tag (I.e. not part of\n",
        "an entity). Therefore, you should perform the necessary pre-processing steps on the dataset. All\n",
        "examples should thus remain, but entity types not belonging to one of the following five should\n",
        "be set to zero: PERSON(PER), ORGANIZATION(ORG), LOCATION(LOC), DISEASES(DIS),\n",
        "ANIMAL(ANIM)"
      ],
      "metadata": {
        "id": "jylbczjphDR1"
      }
    },
    {
      "cell_type": "markdown",
      "source": [
        "### Modify dataset labels"
      ],
      "metadata": {
        "id": "Zs_6eZ1WhJM7"
      }
    },
    {
      "cell_type": "code",
      "source": [
        "label_list_B = ['O',\n",
        "    'B-PER',\n",
        "    'I-PER',\n",
        "    'B-ORG',\n",
        "    'I-ORG',\n",
        "    'B-LOC',\n",
        "    'I-LOC',\n",
        "    'B-ANIM',\n",
        "    'I-ANIM',\n",
        "    'B-DIS',\n",
        "    'I-DIS'\n",
        "    ]"
      ],
      "metadata": {
        "id": "rT8jRd3vh3cz"
      },
      "execution_count": null,
      "outputs": []
    },
    {
      "cell_type": "code",
      "source": [
        "# the same label-id correspondence cannot be kept because the training process only allows label ids of range(0:number of classifications)\n",
        "label2id_B = {l:i for i,l in enumerate(label_list_B)}\n",
        "id2label_B = {v:k for k,v in label2id_B.items()}"
      ],
      "metadata": {
        "id": "_E00cmKrhE8i"
      },
      "execution_count": null,
      "outputs": []
    },
    {
      "cell_type": "code",
      "source": [
        "# map the tokenized dataset to the simpler set of labels\n",
        "\n",
        "# map system A ids to system B ids, set the rest to 0\n",
        "A2B_mapping = defaultdict(lambda:0, {label2id[label]:label2id_B[label] for label in label_list_B})\n",
        "A2B_mapping[-100] = -100        # for special tokens and trailing subtokens of NER entities\n",
        "\n",
        "def apply_mapping(label):\n",
        "  return A2B_mapping[label]\n",
        "\n",
        "def system_B_labels(example):\n",
        "  vmap = np.vectorize(apply_mapping)\n",
        "  for i, tags in enumerate(example['ner_tags']):\n",
        "    example['ner_tags'][i] = vmap(tags)\n",
        "  for i, tags in enumerate(example['labels']):\n",
        "    example['labels'][i] = vmap(tags)\n",
        "  return example"
      ],
      "metadata": {
        "id": "20dq1FoHnEhi"
      },
      "execution_count": null,
      "outputs": []
    },
    {
      "cell_type": "code",
      "source": [
        "tokenized_eng_B = tokenized_eng.map(system_B_labels, batched=True)"
      ],
      "metadata": {
        "id": "r5hhrygkt6s0"
      },
      "execution_count": null,
      "outputs": []
    },
    {
      "cell_type": "markdown",
      "source": [
        "### Fine-tune system B"
      ],
      "metadata": {
        "id": "iE9BcfPctHLx"
      }
    },
    {
      "cell_type": "code",
      "source": [
        "gc.collect()\n",
        "torch.cuda.empty_cache()\n",
        "\n",
        "CUDA_VISIBLE_DEVICES=0\n",
        "\n",
        "training_args_b = TrainingArguments(\n",
        "    output_dir=f'./b_results',\n",
        "    num_train_epochs=3,\n",
        "    max_steps=30000,\n",
        "    per_device_train_batch_size=32,\n",
        "    per_device_eval_batch_size=64,\n",
        "    warmup_steps=1000,\n",
        "    learning_rate=5e-5,\n",
        "    weight_decay=5e-4,\n",
        "    log_level='info',\n",
        "    logging_dir=f'./b_logs',\n",
        "    logging_steps=1000,\n",
        "    evaluation_strategy='steps',\n",
        "    eval_steps=1000,\n",
        "    save_steps=1000,\n",
        "    save_total_limit=5,\n",
        "    load_best_model_at_end=True,\n",
        "    metric_for_best_model='eval_loss',\n",
        "    greater_is_better=False,\n",
        "    dataloader_drop_last=True,\n",
        "    disable_tqdm=False\n",
        "    )\n",
        "\n",
        "model_b = AutoModelForTokenClassification.from_pretrained('bert-base-cased',\n",
        "                                                        num_labels=len(id2label_B),\n",
        "                                                        id2label=id2label_B,\n",
        "                                                        label2id=label2id_B,\n",
        "                                                        hidden_dropout_prob=0.5\n",
        "                                                        ).to('cuda')\n",
        "\n",
        "trainer = Trainer(\n",
        "    model=model_b,\n",
        "    args=training_args_b,\n",
        "    train_dataset=tokenized_eng_B['train'],\n",
        "    eval_dataset=tokenized_eng_B['validation'],\n",
        "    tokenizer=tokenizer,\n",
        "    data_collator=data_collator,\n",
        "    compute_metrics=set_compute_metrics(label_list_B),\n",
        "    callbacks=[EarlyStoppingCallback(early_stopping_patience=5)]\n",
        ")\n",
        "\n",
        "trainer.train()\n",
        "\n",
        "trainer.save_model()"
      ],
      "metadata": {
        "id": "ox11pzvQtGcC"
      },
      "execution_count": null,
      "outputs": []
    },
    {
      "cell_type": "markdown",
      "source": [
        "## Inference"
      ],
      "metadata": {
        "id": "KgmZztRGjwjV"
      }
    },
    {
      "cell_type": "code",
      "source": [
        "# System A\n",
        "\n",
        "test_model = AutoModelForTokenClassification.from_pretrained('./a_results').to('cuda')\n",
        "\n",
        "test_args = TrainingArguments(\n",
        "    output_dir = './a_test',\n",
        "    do_train = False,\n",
        "    do_predict = True,\n",
        "    per_device_eval_batch_size = 64\n",
        ")\n",
        "\n",
        "tester = Trainer(\n",
        "              model = test_model,\n",
        "              args = test_args,\n",
        "              data_collator=data_collator,\n",
        "              compute_metrics = set_compute_metrics(label_list)\n",
        ")\n",
        "\n",
        "tester.evaluate(eval_dataset=tokenized_eng['test'])"
      ],
      "metadata": {
        "id": "15WFeNce3WhO"
      },
      "execution_count": null,
      "outputs": []
    },
    {
      "cell_type": "code",
      "source": [
        "# System B\n",
        "\n",
        "test_model = AutoModelForTokenClassification.from_pretrained('./b_results').to('cuda')\n",
        "\n",
        "test_args = TrainingArguments(\n",
        "    output_dir = './b_test',\n",
        "    do_train = False,\n",
        "    do_predict = True,\n",
        "    per_device_eval_batch_size = 64\n",
        ")\n",
        "\n",
        "tester = Trainer(\n",
        "              model = test_model,\n",
        "              args = test_args,\n",
        "              data_collator=data_collator,\n",
        "              compute_metrics = set_compute_metrics(label_list_B)\n",
        ")\n",
        "\n",
        "results = tester.evaluate(eval_dataset=tokenized_eng_B['test'])\n",
        "print(results)"
      ],
      "metadata": {
        "id": "MBB6bsmS4vpA"
      },
      "execution_count": null,
      "outputs": []
    },
    {
      "cell_type": "code",
      "source": [
        "with open(f'results.json', 'w') as fout:\n",
        "  json.dump(results, fout, indent=4)"
      ],
      "metadata": {
        "id": "O8UmZs_rQfYU"
      },
      "execution_count": null,
      "outputs": []
    }
  ]
}